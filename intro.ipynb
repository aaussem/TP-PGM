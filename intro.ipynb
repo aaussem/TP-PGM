{
 "cells": [
  {
   "cell_type": "markdown",
   "metadata": {},
   "source": [
    "# Read the doc:\n",
    "\n",
    "http://pytorch.org/tutorials/beginner/blitz/tensor_tutorial.html"
   ]
  },
  {
   "cell_type": "markdown",
   "metadata": {},
   "source": [
    "## Tensors"
   ]
  },
  {
   "cell_type": "code",
   "execution_count": 4,
   "metadata": {},
   "outputs": [
    {
     "name": "stdout",
     "output_type": "stream",
     "text": [
      "\n",
      " 0.0000e+00 -8.5899e+09 -1.4131e-11\n",
      " 8.5920e+09  2.8026e-45 -8.5899e+09\n",
      "[torch.FloatTensor of size 2x3]\n",
      "\n",
      "-1431307434.6666667\n"
     ]
    }
   ],
   "source": [
    "import torch\n",
    "\n",
    "a = torch.FloatTensor(2, 3)\n",
    "print(a)\n",
    "print(a.mean())"
   ]
  },
  {
   "cell_type": "markdown",
   "metadata": {},
   "source": [
    "### are Numpy arrays inside"
   ]
  },
  {
   "cell_type": "code",
   "execution_count": 5,
   "metadata": {},
   "outputs": [
    {
     "name": "stdout",
     "output_type": "stream",
     "text": [
      "\n",
      " 0.0000e+00  0.0000e+00 -1.4131e-11\n",
      " 8.5920e+09  2.8026e-45 -8.5899e+09\n",
      "[torch.FloatTensor of size 2x3]\n",
      "\n"
     ]
    }
   ],
   "source": [
    "a_ = a.numpy()\n",
    "a_[0, 1] = 0.\n",
    "\n",
    "print(a)"
   ]
  },
  {
   "cell_type": "markdown",
   "metadata": {},
   "source": [
    "## Variables"
   ]
  },
  {
   "cell_type": "code",
   "execution_count": 6,
   "metadata": {},
   "outputs": [
    {
     "name": "stdout",
     "output_type": "stream",
     "text": [
      "Variable containing:\n",
      " 1  1\n",
      " 1  1\n",
      "[torch.FloatTensor of size 2x2]\n",
      "\n",
      "Variable containing:\n",
      " 1\n",
      "[torch.FloatTensor of size 1]\n",
      "\n"
     ]
    }
   ],
   "source": [
    "from torch.autograd import Variable\n",
    "\n",
    "x = Variable(torch.ones(2, 2))\n",
    "print(x)\n",
    "print(x.mean())"
   ]
  },
  {
   "cell_type": "markdown",
   "metadata": {},
   "source": [
    "### are Tensors inside"
   ]
  },
  {
   "cell_type": "code",
   "execution_count": 7,
   "metadata": {},
   "outputs": [
    {
     "name": "stdout",
     "output_type": "stream",
     "text": [
      "\n",
      " 1  1\n",
      " 1  1\n",
      "[torch.FloatTensor of size 2x2]\n",
      "\n"
     ]
    }
   ],
   "source": [
    "print(x.data)"
   ]
  },
  {
   "cell_type": "markdown",
   "metadata": {},
   "source": [
    "### with automatic differentiation !"
   ]
  },
  {
   "cell_type": "code",
   "execution_count": 8,
   "metadata": {},
   "outputs": [
    {
     "name": "stdout",
     "output_type": "stream",
     "text": [
      "<torch.autograd.function.AddConstantBackward object at 0x10d4d6b88>\n",
      "<torch.autograd.function.MulConstantBackward object at 0x10d4d6a98>\n"
     ]
    }
   ],
   "source": [
    "x.requires_grad=True\n",
    "\n",
    "y = x + 2\n",
    "print(y.grad_fn)\n",
    "\n",
    "z = y * y * 3\n",
    "print(z.grad_fn)"
   ]
  },
  {
   "cell_type": "code",
   "execution_count": 9,
   "metadata": {},
   "outputs": [
    {
     "name": "stdout",
     "output_type": "stream",
     "text": [
      "None\n",
      "Variable containing:\n",
      "-4.5000 -4.5000\n",
      "-4.5000 -4.5000\n",
      "[torch.FloatTensor of size 2x2]\n",
      "\n"
     ]
    }
   ],
   "source": [
    "print(x.grad)\n",
    "\n",
    "error = (10 - z).mean()\n",
    "error.backward()\n",
    "\n",
    "print(x.grad)"
   ]
  },
  {
   "cell_type": "markdown",
   "metadata": {},
   "source": [
    "# Descente de gradient: exemple\n",
    "\n",
    "On calcule les gradients $\\frac{\\partial L(y - h(x))}{\\partial w}$ et $\\frac{\\partial L(y - h(x))}{\\partial b}$, avec:\n",
    " - $h(x) = \\sigma(w*x + b)$\n",
    " - $\\sigma$ est la fonction logistique (sigmoid)\n",
    " - $L(y, \\hat{y}) = (y - \\hat{y})^2$ (erreur quadratique)\n",
    " - $y = 0.2$\n",
    " - $x = 1.5$\n",
    " - $b = -2$\n",
    " - $w = 3$"
   ]
  },
  {
   "cell_type": "code",
   "execution_count": 10,
   "metadata": {},
   "outputs": [
    {
     "name": "stdout",
     "output_type": "stream",
     "text": [
      "0.9241418242454529\n",
      "0.1522950828075409\n",
      "0.101530060172081\n"
     ]
    }
   ],
   "source": [
    "x = Variable(torch.Tensor([1.5]))\n",
    "y = Variable(torch.Tensor([0.2]))\n",
    "b = Variable(torch.Tensor([-2.0]), requires_grad=True)\n",
    "w = Variable(torch.Tensor([3.0]), requires_grad=True)\n",
    "h = torch.sigmoid(w * x + b)\n",
    "error = (y - h)**2\n",
    "error.backward()\n",
    "\n",
    "print(h.data[0])\n",
    "print(w.grad.data[0])\n",
    "print(b.grad.data[0])"
   ]
  },
  {
   "cell_type": "markdown",
   "metadata": {},
   "source": [
    "On minimize $L(y - h(x))$ pas à pas:"
   ]
  },
  {
   "cell_type": "code",
   "execution_count": 18,
   "metadata": {},
   "outputs": [
    {
     "name": "stdout",
     "output_type": "stream",
     "text": [
      "Epoch 1 h=0.92414 w=2.96954 b=-2.02031\n",
      "Epoch 2 h=0.91938 w=2.93755 b=-2.04163\n",
      "Epoch 3 h=0.91409 w=2.90391 b=-2.06406\n",
      "Epoch 4 h=0.90820 w=2.86848 b=-2.08768\n",
      "Epoch 5 h=0.90159 w=2.83113 b=-2.11258\n",
      "Epoch 6 h=0.89417 w=2.79172 b=-2.13886\n",
      "Epoch 7 h=0.88582 w=2.75010 b=-2.16660\n",
      "Epoch 8 h=0.87637 w=2.70613 b=-2.19591\n",
      "Epoch 9 h=0.86568 w=2.65968 b=-2.22688\n",
      "Epoch 10 h=0.85354 w=2.61067 b=-2.25956\n",
      "Epoch 11 h=0.83976 w=2.55901 b=-2.29399\n",
      "Epoch 12 h=0.82412 w=2.50474 b=-2.33018\n",
      "Epoch 13 h=0.80642 w=2.44794 b=-2.36804\n",
      "Epoch 14 h=0.78648 w=2.38884 b=-2.40744\n",
      "Epoch 15 h=0.76420 w=2.32784 b=-2.44810\n",
      "Epoch 16 h=0.73956 w=2.26549 b=-2.48968\n",
      "Epoch 17 h=0.71270 w=2.20250 b=-2.53167\n",
      "Epoch 18 h=0.68397 w=2.13973 b=-2.57351\n",
      "Epoch 19 h=0.65387 w=2.07810 b=-2.61460\n",
      "Epoch 20 h=0.62306 w=2.01848 b=-2.65434\n",
      "Epoch 21 h=0.59228 w=1.96165 b=-2.69224\n",
      "Epoch 22 h=0.56223 w=1.90815 b=-2.72790\n",
      "Epoch 23 h=0.53353 w=1.85835 b=-2.76110\n",
      "Epoch 24 h=0.50661 w=1.81237 b=-2.79176\n",
      "Epoch 25 h=0.48171 w=1.77017 b=-2.81989\n",
      "Epoch 26 h=0.45893 w=1.73159 b=-2.84561\n",
      "Epoch 27 h=0.43826 w=1.69639 b=-2.86907\n",
      "Epoch 28 h=0.41958 w=1.66431 b=-2.89046\n",
      "Epoch 29 h=0.40276 w=1.63505 b=-2.90997\n",
      "Epoch 30 h=0.38760 w=1.60833 b=-2.92778\n",
      "Epoch 31 h=0.37395 w=1.58389 b=-2.94407\n",
      "Epoch 32 h=0.36164 w=1.56150 b=-2.95900\n",
      "Epoch 33 h=0.35052 w=1.54094 b=-2.97271\n",
      "Epoch 34 h=0.34045 w=1.52202 b=-2.98532\n",
      "Epoch 35 h=0.33130 w=1.50457 b=-2.99696\n",
      "Epoch 36 h=0.32298 w=1.48843 b=-3.00771\n",
      "Epoch 37 h=0.31538 w=1.47348 b=-3.01768\n",
      "Epoch 38 h=0.30843 w=1.45961 b=-3.02693\n",
      "Epoch 39 h=0.30206 w=1.44670 b=-3.03554\n",
      "Epoch 40 h=0.29619 w=1.43466 b=-3.04356\n",
      "Epoch 41 h=0.29079 w=1.42343 b=-3.05105\n",
      "Epoch 42 h=0.28579 w=1.41292 b=-3.05805\n",
      "Epoch 43 h=0.28117 w=1.40308 b=-3.06461\n",
      "Epoch 44 h=0.27688 w=1.39384 b=-3.07077\n",
      "Epoch 45 h=0.27289 w=1.38517 b=-3.07656\n",
      "Epoch 46 h=0.26918 w=1.37700 b=-3.08200\n",
      "Epoch 47 h=0.26571 w=1.36931 b=-3.08713\n",
      "Epoch 48 h=0.26247 w=1.36205 b=-3.09196\n",
      "Epoch 49 h=0.25944 w=1.35520 b=-3.09653\n",
      "Epoch 50 h=0.25660 w=1.34872 b=-3.10085\n",
      "Epoch 51 h=0.25393 w=1.34259 b=-3.10494\n",
      "Epoch 52 h=0.25142 w=1.33679 b=-3.10881\n",
      "Epoch 53 h=0.24906 w=1.33128 b=-3.11248\n",
      "Epoch 54 h=0.24684 w=1.32606 b=-3.11596\n",
      "Epoch 55 h=0.24474 w=1.32110 b=-3.11927\n",
      "Epoch 56 h=0.24276 w=1.31638 b=-3.12241\n",
      "Epoch 57 h=0.24088 w=1.31189 b=-3.12540\n",
      "Epoch 58 h=0.23911 w=1.30762 b=-3.12825\n",
      "Epoch 59 h=0.23743 w=1.30356 b=-3.13096\n",
      "Epoch 60 h=0.23584 w=1.29968 b=-3.13354\n",
      "Epoch 61 h=0.23433 w=1.29599 b=-3.13601\n",
      "Epoch 62 h=0.23290 w=1.29246 b=-3.13836\n",
      "Epoch 63 h=0.23153 w=1.28909 b=-3.14060\n",
      "Epoch 64 h=0.23024 w=1.28588 b=-3.14275\n",
      "Epoch 65 h=0.22901 w=1.28281 b=-3.14480\n",
      "Epoch 66 h=0.22783 w=1.27987 b=-3.14675\n",
      "Epoch 67 h=0.22672 w=1.27706 b=-3.14863\n",
      "Epoch 68 h=0.22565 w=1.27437 b=-3.15042\n",
      "Epoch 69 h=0.22463 w=1.27179 b=-3.15214\n",
      "Epoch 70 h=0.22366 w=1.26933 b=-3.15378\n",
      "Epoch 71 h=0.22274 w=1.26697 b=-3.15535\n",
      "Epoch 72 h=0.22185 w=1.26470 b=-3.15686\n",
      "Epoch 73 h=0.22101 w=1.26253 b=-3.15831\n",
      "Epoch 74 h=0.22020 w=1.26045 b=-3.15970\n",
      "Epoch 75 h=0.21943 w=1.25846 b=-3.16103\n",
      "Epoch 76 h=0.21869 w=1.25654 b=-3.16231\n",
      "Epoch 77 h=0.21798 w=1.25470 b=-3.16353\n",
      "Epoch 78 h=0.21730 w=1.25294 b=-3.16471\n",
      "Epoch 79 h=0.21665 w=1.25124 b=-3.16584\n",
      "Epoch 80 h=0.21603 w=1.24961 b=-3.16692\n",
      "Epoch 81 h=0.21543 w=1.24805 b=-3.16797\n",
      "Epoch 82 h=0.21486 w=1.24654 b=-3.16897\n",
      "Epoch 83 h=0.21431 w=1.24510 b=-3.16993\n",
      "Epoch 84 h=0.21378 w=1.24371 b=-3.17086\n",
      "Epoch 85 h=0.21328 w=1.24237 b=-3.17175\n",
      "Epoch 86 h=0.21279 w=1.24109 b=-3.17261\n",
      "Epoch 87 h=0.21232 w=1.23985 b=-3.17343\n",
      "Epoch 88 h=0.21188 w=1.23866 b=-3.17423\n",
      "Epoch 89 h=0.21145 w=1.23752 b=-3.17499\n",
      "Epoch 90 h=0.21103 w=1.23641 b=-3.17572\n",
      "Epoch 91 h=0.21064 w=1.23535 b=-3.17643\n",
      "Epoch 92 h=0.21025 w=1.23433 b=-3.17711\n",
      "Epoch 93 h=0.20989 w=1.23335 b=-3.17777\n",
      "Epoch 94 h=0.20953 w=1.23240 b=-3.17840\n",
      "Epoch 95 h=0.20919 w=1.23149 b=-3.17901\n",
      "Epoch 96 h=0.20887 w=1.23061 b=-3.17959\n",
      "Epoch 97 h=0.20855 w=1.22976 b=-3.18016\n",
      "Epoch 98 h=0.20825 w=1.22895 b=-3.18070\n",
      "Epoch 99 h=0.20796 w=1.22816 b=-3.18123\n",
      "Epoch 100 h=0.20768 w=1.22740 b=-3.18173\n"
     ]
    }
   ],
   "source": [
    "x = Variable(torch.Tensor([1.5]))\n",
    "y = Variable(torch.Tensor([0.2]))\n",
    "b = Variable(torch.Tensor([-2.0]), requires_grad=True)\n",
    "w = Variable(torch.Tensor([3.0]), requires_grad=True)\n",
    "\n",
    "alpha = 0.2\n",
    "for i in range(100):\n",
    "    h = torch.sigmoid(w * x + b)\n",
    "    error = (y - h)**2\n",
    "    error.backward()\n",
    "    \n",
    "    w.data.sub_(alpha * w.grad.data)\n",
    "    w.grad.data.zero_()  # must reset to 0 before next pass\n",
    "    \n",
    "    b.data.sub_(alpha * b.grad.data)\n",
    "    b.grad.data.zero_()  # must reset to 0 before next pass\n",
    "    \n",
    "    print('Epoch {} h={:.05f} w={:.05f} b={:.05f}'.format(i+1, h.data[0], w.data[0], b.data[0]))\n",
    "\n",
    "    "
   ]
  },
  {
   "cell_type": "markdown",
   "metadata": {},
   "source": [
    "Essayez différentes valeurs pour le paramètre alpha: 0.01, 0.1, 1, 10, 100. Que constatez-vous ?"
   ]
  },
  {
   "cell_type": "code",
   "execution_count": null,
   "metadata": {
    "collapsed": true
   },
   "outputs": [],
   "source": []
  },
  {
   "cell_type": "markdown",
   "metadata": {},
   "source": [
    "# A vous de jouer !\n",
    "\n",
    "Voici un jeu de données synthetique."
   ]
  },
  {
   "cell_type": "code",
   "execution_count": 20,
   "metadata": {
    "collapsed": true
   },
   "outputs": [],
   "source": [
    "import numpy as np\n",
    "import torch\n",
    "\n",
    "np.random.seed(1337)\n",
    "\n",
    "X_ = np.concatenate((\n",
    "    np.random.random(\n",
    "        size=(5000, 2)) - 0.5,\n",
    "    np.random.multivariate_normal(\n",
    "        size=(2500, ),\n",
    "        mean=(-.25, -.25),\n",
    "        cov=((0.005, 0), (0, 0.005))),\n",
    "    np.random.multivariate_normal(\n",
    "        size=(2500, ),\n",
    "        mean=(0.25, 0.25),\n",
    "        cov=((0.005, 0), (0, 0.005))),\n",
    "))\n",
    "\n",
    "Y_ = np.concatenate((\n",
    "    np.zeros(shape=(5000, 1)),\n",
    "    np.ones(shape=(5000, 1)),\n",
    "))\n",
    "\n",
    "X_ = np.asarray(X_, dtype='float32')\n",
    "Y_ = np.asarray(Y_, dtype='float32')\n",
    "\n",
    "# shuffle data points\n",
    "perm = np.random.permutation(X_.shape[0])\n",
    "X_ = X_[perm]\n",
    "Y_ = Y_[perm]\n",
    "\n",
    "# numpy arrays -> torch tensors\n",
    "torch.manual_seed(1337)\n",
    "\n",
    "X = torch.from_numpy(X_)\n",
    "Y = torch.from_numpy(Y_)"
   ]
  },
  {
   "cell_type": "markdown",
   "metadata": {},
   "source": [
    "On crée deux jeux séparés: train / test."
   ]
  },
  {
   "cell_type": "code",
   "execution_count": 21,
   "metadata": {},
   "outputs": [
    {
     "data": {
      "image/png": "[encoded data removed]",
      "text/plain": [
       "<matplotlib.figure.Figure at 0x113d91eb8>"
      ]
     },
     "metadata": {},
     "output_type": "display_data"
    }
   ],
   "source": [
    "import matplotlib.pyplot as plt\n",
    "from matplotlib.colors import ListedColormap\n",
    "\n",
    "# train / test split\n",
    "n_train = 100\n",
    "n_test = 100\n",
    "\n",
    "X_train = X[:n_train]\n",
    "Y_train = Y[:n_train]\n",
    "\n",
    "X_test = X[n_train:(n_train + n_test)]\n",
    "Y_test = Y[n_train:(n_train + n_test)]\n",
    "\n",
    "cm = plt.cm.RdBu\n",
    "cm_bright = ListedColormap(['#FF0000', '#0000FF'])\n",
    "\n",
    "fig, axes = plt.subplots(nrows=1, ncols=2, figsize=(16, 8), squeeze=False)\n",
    "axes[0, 0].set_title('train')\n",
    "axes[0, 0].scatter(\n",
    "    X_train[:, 0].numpy(),\n",
    "    X_train[:, 1].numpy(),\n",
    "    c=Y_train[:, 0].numpy(),\n",
    "    cmap=cm_bright,\n",
    "    edgecolors='k')\n",
    "axes[0, 1].set_title('test')\n",
    "axes[0, 1].scatter(\n",
    "    X_test[:, 0].numpy(),\n",
    "    X_test[:, 1].numpy(),\n",
    "    c=Y_test[:, 0].numpy(),\n",
    "    cmap=cm_bright,\n",
    "    edgecolors='k')\n",
    "plt.show()"
   ]
  },
  {
   "cell_type": "markdown",
   "metadata": {},
   "source": [
    "Implémentez un réseau de neurones sans couche cachée, qui prends en entrée $\\mathbf{x} \\in \\mathbb{R}^2$ et produit une seule sortie $\\mathbf{y} \\in [0, 1]$ (sigmoid).\n",
    "\n",
    "Multiplication de matrics: torch.matmul\n",
    "\n",
    "Interdiction d'utiliser les modules haut niveau de pytorch ! (optim, nn etc.)"
   ]
  },
  {
   "cell_type": "code",
   "execution_count": 101,
   "metadata": {},
   "outputs": [
    {
     "name": "stdout",
     "output_type": "stream",
     "text": [
      "Epoch 001\ttrain loss=0.713681\ttest loss=0.707749\t0/1 error=0.530\n",
      "Epoch 002\ttrain loss=0.696068\ttest loss=0.698512\t0/1 error=0.560\n",
      "Epoch 003\ttrain loss=0.696587\ttest loss=0.696024\t0/1 error=0.550\n",
      "Epoch 004\ttrain loss=0.691655\ttest loss=0.691248\t0/1 error=0.520\n",
      "Epoch 005\ttrain loss=0.691390\ttest loss=0.690328\t0/1 error=0.490\n",
      "Epoch 006\ttrain loss=0.688164\ttest loss=0.683775\t0/1 error=0.360\n",
      "Epoch 007\ttrain loss=0.682021\ttest loss=0.682177\t0/1 error=0.320\n",
      "Epoch 008\ttrain loss=0.678543\ttest loss=0.681754\t0/1 error=0.340\n",
      "Epoch 009\ttrain loss=0.681892\ttest loss=0.675684\t0/1 error=0.280\n",
      "Epoch 010\ttrain loss=0.682427\ttest loss=0.675739\t0/1 error=0.250\n",
      "Epoch 011\ttrain loss=0.681083\ttest loss=0.675133\t0/1 error=0.310\n",
      "Epoch 012\ttrain loss=0.680939\ttest loss=0.672961\t0/1 error=0.310\n",
      "Epoch 013\ttrain loss=0.679100\ttest loss=0.674728\t0/1 error=0.300\n",
      "Epoch 014\ttrain loss=0.671520\ttest loss=0.673648\t0/1 error=0.320\n",
      "Epoch 015\ttrain loss=0.681641\ttest loss=0.676058\t0/1 error=0.370\n",
      "Epoch 016\ttrain loss=0.679630\ttest loss=0.677697\t0/1 error=0.410\n",
      "Epoch 017\ttrain loss=0.675902\ttest loss=0.673436\t0/1 error=0.370\n",
      "Epoch 018\ttrain loss=0.681094\ttest loss=0.672542\t0/1 error=0.370\n",
      "Epoch 019\ttrain loss=0.674169\ttest loss=0.679052\t0/1 error=0.400\n",
      "Epoch 020\ttrain loss=0.672860\ttest loss=0.673288\t0/1 error=0.420\n",
      "Epoch 021\ttrain loss=0.671011\ttest loss=0.677717\t0/1 error=0.380\n",
      "Epoch 022\ttrain loss=0.680144\ttest loss=0.670573\t0/1 error=0.390\n",
      "Epoch 023\ttrain loss=0.676897\ttest loss=0.674118\t0/1 error=0.410\n",
      "Epoch 024\ttrain loss=0.675990\ttest loss=0.673542\t0/1 error=0.420\n",
      "Epoch 025\ttrain loss=0.681754\ttest loss=0.671649\t0/1 error=0.370\n",
      "Epoch 026\ttrain loss=0.684890\ttest loss=0.672212\t0/1 error=0.370\n",
      "Epoch 027\ttrain loss=0.680771\ttest loss=0.671579\t0/1 error=0.310\n",
      "Epoch 028\ttrain loss=0.680721\ttest loss=0.671884\t0/1 error=0.340\n",
      "Epoch 029\ttrain loss=0.678666\ttest loss=0.673469\t0/1 error=0.380\n",
      "Epoch 030\ttrain loss=0.683197\ttest loss=0.672169\t0/1 error=0.370\n",
      "Epoch 031\ttrain loss=0.678251\ttest loss=0.676034\t0/1 error=0.420\n",
      "Epoch 032\ttrain loss=0.677000\ttest loss=0.674917\t0/1 error=0.400\n",
      "Epoch 033\ttrain loss=0.682539\ttest loss=0.674771\t0/1 error=0.400\n",
      "Epoch 034\ttrain loss=0.672182\ttest loss=0.669999\t0/1 error=0.320\n",
      "Epoch 035\ttrain loss=0.680362\ttest loss=0.670196\t0/1 error=0.320\n",
      "Epoch 036\ttrain loss=0.678477\ttest loss=0.675373\t0/1 error=0.410\n",
      "Epoch 037\ttrain loss=0.679344\ttest loss=0.671917\t0/1 error=0.370\n",
      "Epoch 038\ttrain loss=0.677539\ttest loss=0.668926\t0/1 error=0.330\n",
      "Epoch 039\ttrain loss=0.674482\ttest loss=0.672081\t0/1 error=0.390\n",
      "Epoch 040\ttrain loss=0.682343\ttest loss=0.670872\t0/1 error=0.370\n",
      "Epoch 041\ttrain loss=0.676848\ttest loss=0.674631\t0/1 error=0.400\n",
      "Epoch 042\ttrain loss=0.674430\ttest loss=0.676085\t0/1 error=0.390\n",
      "Epoch 043\ttrain loss=0.674915\ttest loss=0.674747\t0/1 error=0.400\n",
      "Epoch 044\ttrain loss=0.676303\ttest loss=0.669590\t0/1 error=0.340\n",
      "Epoch 045\ttrain loss=0.676323\ttest loss=0.669522\t0/1 error=0.350\n",
      "Epoch 046\ttrain loss=0.682850\ttest loss=0.670407\t0/1 error=0.370\n",
      "Epoch 047\ttrain loss=0.691265\ttest loss=0.673889\t0/1 error=0.400\n",
      "Epoch 048\ttrain loss=0.675195\ttest loss=0.673676\t0/1 error=0.400\n",
      "Epoch 049\ttrain loss=0.680558\ttest loss=0.669294\t0/1 error=0.320\n",
      "Epoch 050\ttrain loss=0.679140\ttest loss=0.671671\t0/1 error=0.370\n",
      "Epoch 051\ttrain loss=0.672167\ttest loss=0.667845\t0/1 error=0.340\n",
      "Epoch 052\ttrain loss=0.672272\ttest loss=0.666312\t0/1 error=0.320\n",
      "Epoch 053\ttrain loss=0.674613\ttest loss=0.668784\t0/1 error=0.320\n",
      "Epoch 054\ttrain loss=0.678506\ttest loss=0.672752\t0/1 error=0.380\n",
      "Epoch 055\ttrain loss=0.682050\ttest loss=0.671310\t0/1 error=0.400\n",
      "Epoch 056\ttrain loss=0.687242\ttest loss=0.672613\t0/1 error=0.410\n",
      "Epoch 057\ttrain loss=0.676505\ttest loss=0.669164\t0/1 error=0.340\n",
      "Epoch 058\ttrain loss=0.679391\ttest loss=0.669101\t0/1 error=0.370\n",
      "Epoch 059\ttrain loss=0.672053\ttest loss=0.667488\t0/1 error=0.350\n",
      "Epoch 060\ttrain loss=0.675762\ttest loss=0.666776\t0/1 error=0.350\n",
      "Epoch 061\ttrain loss=0.673187\ttest loss=0.667502\t0/1 error=0.340\n",
      "Epoch 062\ttrain loss=0.673488\ttest loss=0.669089\t0/1 error=0.380\n",
      "Epoch 063\ttrain loss=0.677410\ttest loss=0.672213\t0/1 error=0.380\n",
      "Epoch 064\ttrain loss=0.670462\ttest loss=0.672532\t0/1 error=0.400\n",
      "Epoch 065\ttrain loss=0.668714\ttest loss=0.674294\t0/1 error=0.410\n",
      "Epoch 066\ttrain loss=0.673025\ttest loss=0.669891\t0/1 error=0.370\n",
      "Epoch 067\ttrain loss=0.680189\ttest loss=0.668806\t0/1 error=0.350\n",
      "Epoch 068\ttrain loss=0.676170\ttest loss=0.672233\t0/1 error=0.410\n",
      "Epoch 069\ttrain loss=0.664389\ttest loss=0.666396\t0/1 error=0.340\n",
      "Epoch 070\ttrain loss=0.666431\ttest loss=0.666807\t0/1 error=0.340\n",
      "Epoch 071\ttrain loss=0.673970\ttest loss=0.668382\t0/1 error=0.310\n",
      "Epoch 072\ttrain loss=0.668597\ttest loss=0.671924\t0/1 error=0.400\n",
      "Epoch 073\ttrain loss=0.674289\ttest loss=0.669657\t0/1 error=0.370\n",
      "Epoch 074\ttrain loss=0.684560\ttest loss=0.670288\t0/1 error=0.370\n",
      "Epoch 075\ttrain loss=0.685333\ttest loss=0.670473\t0/1 error=0.380\n",
      "Epoch 076\ttrain loss=0.676746\ttest loss=0.670185\t0/1 error=0.390\n",
      "Epoch 077\ttrain loss=0.679582\ttest loss=0.666036\t0/1 error=0.350\n",
      "Epoch 078\ttrain loss=0.670799\ttest loss=0.665931\t0/1 error=0.350\n",
      "Epoch 079\ttrain loss=0.681737\ttest loss=0.667004\t0/1 error=0.350\n",
      "Epoch 080\ttrain loss=0.682605\ttest loss=0.668702\t0/1 error=0.310\n",
      "Epoch 081\ttrain loss=0.676537\ttest loss=0.668332\t0/1 error=0.320\n",
      "Epoch 082\ttrain loss=0.677848\ttest loss=0.671767\t0/1 error=0.380\n",
      "Epoch 083\ttrain loss=0.674479\ttest loss=0.670402\t0/1 error=0.350\n",
      "Epoch 084\ttrain loss=0.682800\ttest loss=0.670485\t0/1 error=0.370\n",
      "Epoch 085\ttrain loss=0.669875\ttest loss=0.671101\t0/1 error=0.370\n",
      "Epoch 086\ttrain loss=0.686681\ttest loss=0.669596\t0/1 error=0.350\n",
      "Epoch 087\ttrain loss=0.679733\ttest loss=0.674144\t0/1 error=0.400\n",
      "Epoch 088\ttrain loss=0.665318\ttest loss=0.670395\t0/1 error=0.340\n",
      "Epoch 089\ttrain loss=0.677869\ttest loss=0.672067\t0/1 error=0.370\n",
      "Epoch 090\ttrain loss=0.672126\ttest loss=0.671711\t0/1 error=0.360\n",
      "Epoch 091\ttrain loss=0.679286\ttest loss=0.668616\t0/1 error=0.320\n",
      "Epoch 092\ttrain loss=0.675713\ttest loss=0.667715\t0/1 error=0.340\n",
      "Epoch 093\ttrain loss=0.680032\ttest loss=0.669439\t0/1 error=0.310\n",
      "Epoch 094\ttrain loss=0.670427\ttest loss=0.670636\t0/1 error=0.340\n",
      "Epoch 095\ttrain loss=0.681479\ttest loss=0.669547\t0/1 error=0.310\n",
      "Epoch 096\ttrain loss=0.671801\ttest loss=0.671730\t0/1 error=0.330\n",
      "Epoch 097\ttrain loss=0.664174\ttest loss=0.667314\t0/1 error=0.310\n",
      "Epoch 098\ttrain loss=0.684078\ttest loss=0.671019\t0/1 error=0.310\n",
      "Epoch 099\ttrain loss=0.682770\ttest loss=0.672751\t0/1 error=0.330\n",
      "Epoch 100\ttrain loss=0.677749\ttest loss=0.670096\t0/1 error=0.310\n",
      "Epoch 101\ttrain loss=0.675945\ttest loss=0.673725\t0/1 error=0.360\n",
      "Epoch 102\ttrain loss=0.676538\ttest loss=0.672953\t0/1 error=0.350\n",
      "Epoch 103\ttrain loss=0.682892\ttest loss=0.674098\t0/1 error=0.390\n",
      "Epoch 104\ttrain loss=0.673874\ttest loss=0.666658\t0/1 error=0.310\n",
      "Epoch 105\ttrain loss=0.684167\ttest loss=0.669547\t0/1 error=0.310\n",
      "Epoch 106\ttrain loss=0.687476\ttest loss=0.671668\t0/1 error=0.370\n",
      "Epoch 107\ttrain loss=0.671336\ttest loss=0.669677\t0/1 error=0.320\n",
      "Epoch 108\ttrain loss=0.684116\ttest loss=0.672659\t0/1 error=0.360\n",
      "Epoch 109\ttrain loss=0.673896\ttest loss=0.669069\t0/1 error=0.320\n",
      "Epoch 110\ttrain loss=0.678317\ttest loss=0.671606\t0/1 error=0.330\n",
      "Epoch 111\ttrain loss=0.675591\ttest loss=0.672955\t0/1 error=0.330\n",
      "Epoch 112\ttrain loss=0.686609\ttest loss=0.678903\t0/1 error=0.460\n",
      "Epoch 113\ttrain loss=0.682492\ttest loss=0.674512\t0/1 error=0.380\n",
      "Epoch 114\ttrain loss=0.686033\ttest loss=0.676297\t0/1 error=0.420\n",
      "Epoch 115\ttrain loss=0.684689\ttest loss=0.675774\t0/1 error=0.410\n",
      "Epoch 116\ttrain loss=0.670656\ttest loss=0.676820\t0/1 error=0.440\n",
      "Epoch 117\ttrain loss=0.674515\ttest loss=0.670379\t0/1 error=0.300\n",
      "Epoch 118\ttrain loss=0.679215\ttest loss=0.671386\t0/1 error=0.310\n",
      "Epoch 119\ttrain loss=0.686624\ttest loss=0.677338\t0/1 error=0.450\n",
      "Epoch 120\ttrain loss=0.672114\ttest loss=0.670186\t0/1 error=0.310\n",
      "Epoch 121\ttrain loss=0.671978\ttest loss=0.674145\t0/1 error=0.370\n",
      "Epoch 122\ttrain loss=0.682413\ttest loss=0.675214\t0/1 error=0.420\n",
      "Epoch 123\ttrain loss=0.674941\ttest loss=0.671547\t0/1 error=0.330\n",
      "Epoch 124\ttrain loss=0.672744\ttest loss=0.672979\t0/1 error=0.370\n",
      "Epoch 125\ttrain loss=0.677779\ttest loss=0.674152\t0/1 error=0.410\n",
      "Epoch 126\ttrain loss=0.679484\ttest loss=0.674639\t0/1 error=0.410\n",
      "Epoch 127\ttrain loss=0.680110\ttest loss=0.670494\t0/1 error=0.340\n",
      "Epoch 128\ttrain loss=0.683713\ttest loss=0.670383\t0/1 error=0.350\n"
     ]
    },
    {
     "name": "stdout",
     "output_type": "stream",
     "text": [
      "Epoch 129\ttrain loss=0.673641\ttest loss=0.671695\t0/1 error=0.370\n",
      "Epoch 130\ttrain loss=0.684696\ttest loss=0.677063\t0/1 error=0.410\n",
      "Epoch 131\ttrain loss=0.685699\ttest loss=0.671083\t0/1 error=0.370\n",
      "Epoch 132\ttrain loss=0.677116\ttest loss=0.669502\t0/1 error=0.320\n",
      "Epoch 133\ttrain loss=0.670967\ttest loss=0.668758\t0/1 error=0.320\n",
      "Epoch 134\ttrain loss=0.679428\ttest loss=0.674543\t0/1 error=0.380\n",
      "Epoch 135\ttrain loss=0.680465\ttest loss=0.671079\t0/1 error=0.310\n",
      "Epoch 136\ttrain loss=0.678535\ttest loss=0.670882\t0/1 error=0.330\n",
      "Epoch 137\ttrain loss=0.679136\ttest loss=0.671099\t0/1 error=0.330\n",
      "Epoch 138\ttrain loss=0.682369\ttest loss=0.670282\t0/1 error=0.310\n",
      "Epoch 139\ttrain loss=0.674124\ttest loss=0.668276\t0/1 error=0.330\n",
      "Epoch 140\ttrain loss=0.673773\ttest loss=0.670206\t0/1 error=0.310\n",
      "Epoch 141\ttrain loss=0.690289\ttest loss=0.675553\t0/1 error=0.440\n",
      "Epoch 142\ttrain loss=0.667115\ttest loss=0.673224\t0/1 error=0.370\n",
      "Epoch 143\ttrain loss=0.678227\ttest loss=0.672943\t0/1 error=0.370\n",
      "Epoch 144\ttrain loss=0.681693\ttest loss=0.674810\t0/1 error=0.410\n",
      "Epoch 145\ttrain loss=0.683968\ttest loss=0.672538\t0/1 error=0.360\n",
      "Epoch 146\ttrain loss=0.671057\ttest loss=0.673679\t0/1 error=0.400\n",
      "Epoch 147\ttrain loss=0.675514\ttest loss=0.672792\t0/1 error=0.380\n",
      "Epoch 148\ttrain loss=0.683623\ttest loss=0.670913\t0/1 error=0.370\n",
      "Epoch 149\ttrain loss=0.674675\ttest loss=0.666890\t0/1 error=0.350\n",
      "Epoch 150\ttrain loss=0.676458\ttest loss=0.671712\t0/1 error=0.390\n",
      "Epoch 151\ttrain loss=0.684998\ttest loss=0.675508\t0/1 error=0.410\n",
      "Epoch 152\ttrain loss=0.691968\ttest loss=0.673442\t0/1 error=0.370\n",
      "Epoch 153\ttrain loss=0.670019\ttest loss=0.669298\t0/1 error=0.310\n",
      "Epoch 154\ttrain loss=0.681186\ttest loss=0.671564\t0/1 error=0.360\n",
      "Epoch 155\ttrain loss=0.670937\ttest loss=0.668806\t0/1 error=0.330\n",
      "Epoch 156\ttrain loss=0.673697\ttest loss=0.668597\t0/1 error=0.330\n",
      "Epoch 157\ttrain loss=0.694672\ttest loss=0.669952\t0/1 error=0.310\n",
      "Epoch 158\ttrain loss=0.680222\ttest loss=0.671057\t0/1 error=0.370\n",
      "Epoch 159\ttrain loss=0.682422\ttest loss=0.672315\t0/1 error=0.370\n",
      "Epoch 160\ttrain loss=0.670232\ttest loss=0.669857\t0/1 error=0.350\n",
      "Epoch 161\ttrain loss=0.681232\ttest loss=0.672218\t0/1 error=0.380\n",
      "Epoch 162\ttrain loss=0.683616\ttest loss=0.669835\t0/1 error=0.340\n",
      "Epoch 163\ttrain loss=0.678454\ttest loss=0.668867\t0/1 error=0.320\n",
      "Epoch 164\ttrain loss=0.680598\ttest loss=0.667310\t0/1 error=0.350\n",
      "Epoch 165\ttrain loss=0.682725\ttest loss=0.667088\t0/1 error=0.330\n",
      "Epoch 166\ttrain loss=0.670792\ttest loss=0.670689\t0/1 error=0.350\n",
      "Epoch 167\ttrain loss=0.678063\ttest loss=0.673761\t0/1 error=0.370\n",
      "Epoch 168\ttrain loss=0.682513\ttest loss=0.671307\t0/1 error=0.330\n",
      "Epoch 169\ttrain loss=0.676095\ttest loss=0.674966\t0/1 error=0.420\n",
      "Epoch 170\ttrain loss=0.675563\ttest loss=0.668740\t0/1 error=0.320\n",
      "Epoch 171\ttrain loss=0.684333\ttest loss=0.672736\t0/1 error=0.340\n",
      "Epoch 172\ttrain loss=0.676860\ttest loss=0.669179\t0/1 error=0.310\n",
      "Epoch 173\ttrain loss=0.685307\ttest loss=0.674084\t0/1 error=0.370\n",
      "Epoch 174\ttrain loss=0.678149\ttest loss=0.672896\t0/1 error=0.380\n",
      "Epoch 175\ttrain loss=0.684642\ttest loss=0.673621\t0/1 error=0.400\n",
      "Epoch 176\ttrain loss=0.673949\ttest loss=0.677447\t0/1 error=0.410\n",
      "Epoch 177\ttrain loss=0.680012\ttest loss=0.673092\t0/1 error=0.370\n",
      "Epoch 178\ttrain loss=0.682007\ttest loss=0.671904\t0/1 error=0.350\n",
      "Epoch 179\ttrain loss=0.670814\ttest loss=0.672876\t0/1 error=0.360\n",
      "Epoch 180\ttrain loss=0.684216\ttest loss=0.670520\t0/1 error=0.310\n",
      "Epoch 181\ttrain loss=0.662903\ttest loss=0.670609\t0/1 error=0.350\n",
      "Epoch 182\ttrain loss=0.678264\ttest loss=0.672081\t0/1 error=0.360\n",
      "Epoch 183\ttrain loss=0.689952\ttest loss=0.670727\t0/1 error=0.350\n",
      "Epoch 184\ttrain loss=0.686775\ttest loss=0.671074\t0/1 error=0.370\n",
      "Epoch 185\ttrain loss=0.686622\ttest loss=0.670326\t0/1 error=0.320\n",
      "Epoch 186\ttrain loss=0.683632\ttest loss=0.672707\t0/1 error=0.310\n",
      "Epoch 187\ttrain loss=0.684422\ttest loss=0.671492\t0/1 error=0.310\n",
      "Epoch 188\ttrain loss=0.681686\ttest loss=0.671258\t0/1 error=0.310\n",
      "Epoch 189\ttrain loss=0.677285\ttest loss=0.668894\t0/1 error=0.330\n",
      "Epoch 190\ttrain loss=0.677727\ttest loss=0.670266\t0/1 error=0.310\n",
      "Epoch 191\ttrain loss=0.677437\ttest loss=0.668013\t0/1 error=0.340\n",
      "Epoch 192\ttrain loss=0.673979\ttest loss=0.669466\t0/1 error=0.360\n",
      "Epoch 193\ttrain loss=0.681653\ttest loss=0.667789\t0/1 error=0.340\n",
      "Epoch 194\ttrain loss=0.674865\ttest loss=0.667358\t0/1 error=0.340\n",
      "Epoch 195\ttrain loss=0.677635\ttest loss=0.668208\t0/1 error=0.330\n",
      "Epoch 196\ttrain loss=0.687101\ttest loss=0.669818\t0/1 error=0.340\n",
      "Epoch 197\ttrain loss=0.686262\ttest loss=0.670506\t0/1 error=0.310\n",
      "Epoch 198\ttrain loss=0.681371\ttest loss=0.672651\t0/1 error=0.360\n",
      "Epoch 199\ttrain loss=0.663040\ttest loss=0.669367\t0/1 error=0.310\n",
      "Epoch 200\ttrain loss=0.678906\ttest loss=0.670647\t0/1 error=0.350\n",
      "Epoch 201\ttrain loss=0.684922\ttest loss=0.667986\t0/1 error=0.340\n",
      "Epoch 202\ttrain loss=0.667754\ttest loss=0.669972\t0/1 error=0.350\n",
      "Epoch 203\ttrain loss=0.679852\ttest loss=0.670305\t0/1 error=0.350\n",
      "Epoch 204\ttrain loss=0.686250\ttest loss=0.674333\t0/1 error=0.400\n",
      "Epoch 205\ttrain loss=0.674222\ttest loss=0.671509\t0/1 error=0.340\n",
      "Epoch 206\ttrain loss=0.674774\ttest loss=0.669608\t0/1 error=0.320\n",
      "Epoch 207\ttrain loss=0.677342\ttest loss=0.670440\t0/1 error=0.340\n",
      "Epoch 208\ttrain loss=0.688694\ttest loss=0.674741\t0/1 error=0.390\n",
      "Epoch 209\ttrain loss=0.680237\ttest loss=0.670199\t0/1 error=0.310\n",
      "Epoch 210\ttrain loss=0.669023\ttest loss=0.667734\t0/1 error=0.340\n",
      "Epoch 211\ttrain loss=0.673622\ttest loss=0.668435\t0/1 error=0.330\n",
      "Epoch 212\ttrain loss=0.676647\ttest loss=0.670142\t0/1 error=0.350\n",
      "Epoch 213\ttrain loss=0.682995\ttest loss=0.669205\t0/1 error=0.310\n",
      "Epoch 214\ttrain loss=0.670161\ttest loss=0.668115\t0/1 error=0.320\n",
      "Epoch 215\ttrain loss=0.675149\ttest loss=0.670217\t0/1 error=0.370\n",
      "Epoch 216\ttrain loss=0.675377\ttest loss=0.670231\t0/1 error=0.370\n",
      "Epoch 217\ttrain loss=0.682726\ttest loss=0.673082\t0/1 error=0.370\n",
      "Epoch 218\ttrain loss=0.682717\ttest loss=0.668211\t0/1 error=0.330\n",
      "Epoch 219\ttrain loss=0.679073\ttest loss=0.669266\t0/1 error=0.320\n",
      "Epoch 220\ttrain loss=0.682739\ttest loss=0.671127\t0/1 error=0.330\n",
      "Epoch 221\ttrain loss=0.683303\ttest loss=0.674433\t0/1 error=0.370\n",
      "Epoch 222\ttrain loss=0.690909\ttest loss=0.671440\t0/1 error=0.330\n",
      "Epoch 223\ttrain loss=0.677862\ttest loss=0.668931\t0/1 error=0.330\n",
      "Epoch 224\ttrain loss=0.672630\ttest loss=0.674335\t0/1 error=0.370\n",
      "Epoch 225\ttrain loss=0.679941\ttest loss=0.673992\t0/1 error=0.360\n",
      "Epoch 226\ttrain loss=0.682215\ttest loss=0.669643\t0/1 error=0.310\n",
      "Epoch 227\ttrain loss=0.666970\ttest loss=0.670676\t0/1 error=0.370\n",
      "Epoch 228\ttrain loss=0.684099\ttest loss=0.671568\t0/1 error=0.360\n",
      "Epoch 229\ttrain loss=0.680058\ttest loss=0.670319\t0/1 error=0.370\n",
      "Epoch 230\ttrain loss=0.682646\ttest loss=0.675116\t0/1 error=0.410\n",
      "Epoch 231\ttrain loss=0.679606\ttest loss=0.672457\t0/1 error=0.370\n",
      "Epoch 232\ttrain loss=0.673766\ttest loss=0.668431\t0/1 error=0.340\n",
      "Epoch 233\ttrain loss=0.679005\ttest loss=0.670691\t0/1 error=0.350\n",
      "Epoch 234\ttrain loss=0.674935\ttest loss=0.667260\t0/1 error=0.350\n",
      "Epoch 235\ttrain loss=0.674710\ttest loss=0.669512\t0/1 error=0.310\n",
      "Epoch 236\ttrain loss=0.673320\ttest loss=0.669341\t0/1 error=0.320\n",
      "Epoch 237\ttrain loss=0.682809\ttest loss=0.669844\t0/1 error=0.310\n",
      "Epoch 238\ttrain loss=0.680271\ttest loss=0.672479\t0/1 error=0.380\n",
      "Epoch 239\ttrain loss=0.676697\ttest loss=0.669171\t0/1 error=0.320\n",
      "Epoch 240\ttrain loss=0.668312\ttest loss=0.669577\t0/1 error=0.340\n",
      "Epoch 241\ttrain loss=0.675333\ttest loss=0.667474\t0/1 error=0.340\n",
      "Epoch 242\ttrain loss=0.689963\ttest loss=0.671937\t0/1 error=0.370\n",
      "Epoch 243\ttrain loss=0.678640\ttest loss=0.672002\t0/1 error=0.370\n",
      "Epoch 244\ttrain loss=0.681654\ttest loss=0.671364\t0/1 error=0.360\n",
      "Epoch 245\ttrain loss=0.684780\ttest loss=0.669942\t0/1 error=0.320\n",
      "Epoch 246\ttrain loss=0.673021\ttest loss=0.671020\t0/1 error=0.330\n",
      "Epoch 247\ttrain loss=0.677247\ttest loss=0.666067\t0/1 error=0.310\n",
      "Epoch 248\ttrain loss=0.673466\ttest loss=0.671048\t0/1 error=0.370\n",
      "Epoch 249\ttrain loss=0.681273\ttest loss=0.672203\t0/1 error=0.390\n",
      "Epoch 250\ttrain loss=0.674808\ttest loss=0.675304\t0/1 error=0.390\n"
     ]
    }
   ],
   "source": [
    "import numpy as np\n",
    "from torch.autograd import Variable\n",
    "\n",
    "torch.manual_seed(0)\n",
    "\n",
    "n_in = 2\n",
    "params = []\n",
    "\n",
    "n_out = 1\n",
    "W = Variable(torch.normal(torch.zeros(n_in, n_out), np.sqrt(2/(n_in + n_out))), requires_grad=True)\n",
    "b = Variable(torch.zeros(n_out), requires_grad=True)\n",
    "\n",
    "def forward(X):\n",
    "    H = ...\n",
    "    \n",
    "    return H\n",
    "\n",
    "\n",
    "def L(H, Y, eps=1e-08):\n",
    "    loss = -Y * torch.log(H + eps) - (1 - Y) * torch.log(1 - H + eps)  # log-likelikood\n",
    "\n",
    "    return loss\n",
    "\n",
    "\n",
    "n_epochs = 250\n",
    "epoch_n_batches = 100\n",
    "train_batch_size = 10\n",
    "alpha = 0.1\n",
    "\n",
    "for i in range(n_epochs):\n",
    "\n",
    "    train_loss = 0.\n",
    "\n",
    "    for j in range(epoch_n_batches):\n",
    "\n",
    "        # Prepare next mini-batch\n",
    "        mb_idxs = torch.multinomial(torch.ones(n_train), train_batch_size, replacement=True)\n",
    "        X_mb = Variable(X_train[mb_idxs])\n",
    "        Y_mb = Variable(Y_train[mb_idxs])\n",
    "\n",
    "        # Forward pass\n",
    "        Y_prob_mb = forward(X_mb)\n",
    "        \n",
    "        loss = ...\n",
    "\n",
    "        # Backward pass\n",
    "        # TODO\n",
    "\n",
    "        # Parameter update (gradient descent)\n",
    "        # TODO\n",
    "\n",
    "        train_loss += loss.data[0]\n",
    "\n",
    "    train_loss /= epoch_n_batches\n",
    "\n",
    "    # Forward pass\n",
    "    Y_test_prob = forward(Variable(X_test)).data\n",
    "    test_loss = L(Y_test_prob, Y_test).mean()\n",
    "    \n",
    "    # Compute expected 0/1 error\n",
    "    Y_test_pred = (Y_test_prob > 0.5).type(torch.FloatTensor)\n",
    "    test_err = torch.abs(Y_test - Y_test_pred).mean()\n",
    "\n",
    "    print('Epoch {:03d}\\ttrain loss={:.06f}\\ttest loss={:.06f}\\t0/1 error={:.03f}'.format(\n",
    "        i + 1, train_loss, test_loss, test_err))"
   ]
  },
  {
   "cell_type": "markdown",
   "metadata": {},
   "source": [
    "Visualisez la distribution apprise par votre modèle:"
   ]
  },
  {
   "cell_type": "code",
   "execution_count": 47,
   "metadata": {},
   "outputs": [
    {
     "data": {
      "image/png": "[encoded data removed]",
      "text/plain": [
       "<matplotlib.figure.Figure at 0x118a8c1d0>"
      ]
     },
     "metadata": {},
     "output_type": "display_data"
    }
   ],
   "source": [
    "map_size = (100, 100)\n",
    "x1, x2 = np.meshgrid(np.linspace(X_[:, 0].min()-0.1, X_[:, 0].max()+0.1, map_size[0]),\n",
    "                     np.linspace(X_[:, 1].min()-0.1, X_[:, 1].max()+0.1, map_size[1]))\n",
    "X_map = torch.from_numpy(np.asarray(np.c_[x1.ravel(), x2.ravel()], dtype='float32'))\n",
    "\n",
    "Y_prob_map = forward(Variable(X_map)).data\n",
    "\n",
    "Y_train_pred = (forward(Variable(X_train)).data > 0.5).type(torch.FloatTensor)\n",
    "train_err = torch.abs(Y_train - Y_train_pred).mean()\n",
    "\n",
    "Y_test_pred = (forward(Variable(X_test)).data > 0.5).type(torch.FloatTensor)\n",
    "test_err = torch.abs(Y_test - Y_test_pred).mean()\n",
    "\n",
    "fig, axes = plt.subplots(nrows=1, ncols=2, figsize=(16, 8), squeeze=False)\n",
    "axes[0, 0].set_title('train accuracy={:.03f}'.format(1 - train_err))\n",
    "axes[0, 0].contourf(\n",
    "    x1,\n",
    "    x2,\n",
    "    Y_prob_map.numpy().reshape(map_size),\n",
    "    cmap=cm, vmin=0, vmax=1,\n",
    "    alpha=.8)\n",
    "axes[0, 0].scatter(\n",
    "    X_train[:, 0].numpy(),\n",
    "    X_train[:, 1].numpy(),\n",
    "    c=Y_train[:, 0].numpy(),\n",
    "    cmap=cm_bright,\n",
    "    edgecolors='k')\n",
    "axes[0, 1].set_title('test accuracy={:.03f}'.format(1 - test_err))\n",
    "axes[0, 1].contourf(\n",
    "    x1,\n",
    "    x2,\n",
    "    Y_prob_map.numpy().reshape(map_size),\n",
    "    cmap=cm, vmin=0, vmax=1,\n",
    "    alpha=.8)\n",
    "axes[0, 1].scatter(\n",
    "    X_test[:, 0].numpy(),\n",
    "    X_test[:, 1].numpy(),\n",
    "    c=Y_test[:, 0].numpy(),\n",
    "    cmap=cm_bright,\n",
    "    edgecolors='k')\n",
    "plt.show()"
   ]
  },
  {
   "cell_type": "markdown",
   "metadata": {},
   "source": [
    "Ajoutez une couche cachée de taille 10 à votre réseau de neurones, avec la fonction d'activation relu."
   ]
  },
  {
   "cell_type": "markdown",
   "metadata": {},
   "source": [
    "Bonus: améliorez votre réseau de neurones: plus de neurones cachés, deuxième couche cachée etc."
   ]
  },
  {
   "cell_type": "code",
   "execution_count": 2,
   "metadata": {},
   "outputs": [],
   "source": [
    "# TODO:"
   ]
  },
  {
   "cell_type": "code",
   "execution_count": 1,
   "metadata": {},
   "outputs": [],
   "source": [
    "# TODO:"
   ]
  },
  {
   "cell_type": "markdown",
   "metadata": {
    "collapsed": true
   },
   "source": [
    "# MNIST\n",
    "\n",
    "Vous allez maintenant utiliser les fonctions haut niveau de pytorch: torch.nn, torch.optim etc.\n",
    "\n",
    "On commence par charger les données:"
   ]
  },
  {
   "cell_type": "code",
   "execution_count": 7,
   "metadata": {},
   "outputs": [
    {
     "name": "stdout",
     "output_type": "stream",
     "text": [
      "Downloading http://yann.lecun.com/exdb/mnist/train-images-idx3-ubyte.gz\n",
      "Downloading http://yann.lecun.com/exdb/mnist/train-labels-idx1-ubyte.gz\n",
      "Downloading http://yann.lecun.com/exdb/mnist/t10k-images-idx3-ubyte.gz\n",
      "Downloading http://yann.lecun.com/exdb/mnist/t10k-labels-idx1-ubyte.gz\n",
      "Processing...\n",
      "Done!\n"
     ]
    }
   ],
   "source": [
    "import numpy as np\n",
    "import matplotlib.pyplot as plt\n",
    "%matplotlib inline\n",
    "\n",
    "from torchvision import datasets, transforms\n",
    "\n",
    "mnist_folder = '/Users/anilnarassiguin/MNIST_data/'\n",
    "\n",
    "train_data = datasets.MNIST(root=mnist_folder, download=True, transform=transforms.ToTensor(), train=True)\n",
    "test_data = datasets.MNIST(root=mnist_folder, download=True, transform=transforms.ToTensor(), train=False)"
   ]
  },
  {
   "cell_type": "code",
   "execution_count": 11,
   "metadata": {},
   "outputs": [
    {
     "name": "stdout",
     "output_type": "stream",
     "text": [
      "Nombre d'images dans le train set: 60000\n",
      "Nombre d'images dans le train set: 10000\n"
     ]
    }
   ],
   "source": [
    "print(\"Nombre d'images dans le train set:\", len(train_data))\n",
    "print(\"Nombre d'images dans le train set:\", len(test_data))"
   ]
  },
  {
   "cell_type": "markdown",
   "metadata": {},
   "source": [
    "### Afficher quelques images"
   ]
  },
  {
   "cell_type": "code",
   "execution_count": 18,
   "metadata": {},
   "outputs": [
    {
     "data": {
      "image/png": "[encoded data removed]",
      "text/plain": [
       "<matplotlib.figure.Figure at 0x11cd4b2e8>"
      ]
     },
     "metadata": {},
     "output_type": "display_data"
    }
   ],
   "source": [
    "fig, axes = plt.subplots(nrows=2, ncols=5, figsize=(8, 4), squeeze=False)\n",
    "seed = 123 # changer la seed pour afficher d'autres images\n",
    "\n",
    "for i in range(10):\n",
    "    r = i // 5\n",
    "    c = i % 5\n",
    "    np.random.seed(seed+i)\n",
    "    idx = np.random.choice(len(train_data), 1)[0]\n",
    "    x = train_data[idx][0].numpy()\n",
    "    y = train_data[idx][1]\n",
    "    axes[r, c].imshow(x[0, :, :])\n",
    "    axes[r, c].set_title('y={}'.format(y))\n",
    "    \n",
    "plt.show()"
   ]
  },
  {
   "cell_type": "markdown",
   "metadata": {},
   "source": [
    "### Modèle initial"
   ]
  },
  {
   "cell_type": "code",
   "execution_count": null,
   "metadata": {
    "collapsed": true
   },
   "outputs": [],
   "source": [
    "import torch\n",
    "import torch.nn as nn\n",
    "import torch.nn.functional as F\n",
    "import torch.optim as optim\n",
    "from torch.autograd import Variable\n",
    "from torch.utils.data import DataLoader\n",
    "\n",
    "# Training settings\n",
    "seed = 1337\n",
    "lr = 0.1\n",
    "epochs = 25\n",
    "train_batch_size = 50\n",
    "test_batch_size = 100\n",
    "\n",
    "torch.manual_seed(seed)\n",
    "\n",
    "train_loader = DataLoader(train_data, batch_size=train_batch_size, shuffle=True)\n",
    "test_loader = DataLoader(test_data, batch_size=test_batch_size, shuffle=False)\n",
    "\n",
    "class Net(nn.Module):\n",
    "    def __init__(self):\n",
    "        super(Net, self).__init__()\n",
    "        self.fc1 = nn.Linear(28*28, 10)\n",
    "\n",
    "    def forward(self, X):\n",
    "        X = X.view(-1, 28*28)  # flatten images\n",
    "        X = self.fc1(X)\n",
    "        return F.log_softmax(X)\n",
    "\n",
    "model = Net()\n",
    "\n",
    "optimizer = optim.SGD(model.parameters(), lr=lr)\n",
    "\n",
    "def train(epoch):\n",
    "\n",
    "    exp_loss = 0.\n",
    "    n_processed = 0\n",
    "\n",
    "    model.train()\n",
    "    for X, Y in train_loader:\n",
    "        X, Y = Variable(X), Variable(Y)\n",
    "        \n",
    "        # Forward pass\n",
    "        Y_pred_prob = model(X)\n",
    "\n",
    "        # Compute expected loss\n",
    "        loss = F.nll_loss(Y_pred_prob, Y)\n",
    "        \n",
    "        # Backward pass\n",
    "        loss.backward()\n",
    "        \n",
    "        # Parameter update (gradient descent)\n",
    "        optimizer.step()\n",
    "        optimizer.zero_grad()\n",
    "\n",
    "        # exp_loss.data[0] += loss * X.data.shape[0]\n",
    "        exp_loss += loss * X.data.shape[0]\n",
    "        n_processed += X.data.shape[0]\n",
    "    \n",
    "    exp_loss /= n_processed\n",
    "    return exp_loss\n",
    "\n",
    "def test():\n",
    "    test_loss = 0\n",
    "    test_error = 0\n",
    "    \n",
    "    model.eval()\n",
    "    for X, Y in test_loader:\n",
    "        X, Y = Variable(X, volatile=True), Variable(Y)\n",
    "        \n",
    "        # Forward pass\n",
    "        Y_pred_prob = model(X)\n",
    "        \n",
    "        # Compute the expected negative log-likelihood\n",
    "        test_loss += F.nll_loss(Y_pred_prob, Y, size_average=False).data[0]\n",
    "        \n",
    "        # Get the mode of p(y|x) (most probable digit)\n",
    "        Y_pred = Y_pred_prob.data.max(1, keepdim=True)[1]\n",
    "        \n",
    "        # Compute the expected 0/1 error\n",
    "        test_error += (1 - Y_pred.eq(Y.data.view_as(Y_pred))).sum()\n",
    "\n",
    "    test_loss /= len(test_loader.dataset)\n",
    "    test_error /= len(test_loader.dataset)\n",
    "\n",
    "    return test_loss, test_error\n",
    "\n",
    "\n",
    "for epoch in range(1, epochs + 1):\n",
    "    \n",
    "    print('Epoch {}...'.format(epoch))\n",
    "    \n",
    "    train_loss = train(epoch)\n",
    "    print('Train negative log-likelihood: {:.6f}'.format(train_loss.data[0]))\n",
    "    \n",
    "    test_loss, test_error = test()\n",
    "    print('Test  negative log-likelihood: {:.6f} 0/1 error: {:.6f}'.format(test_loss, test_error))\n"
   ]
  },
  {
   "cell_type": "markdown",
   "metadata": {},
   "source": [
    "Jouez avec les paramètres suivants:\n",
    "- lr\n",
    "- epochs\n",
    "- train_batch_size\n",
    "\n",
    "Quelle est la meilleure performance (0/1 error) que vous arrivez à atteindre?"
   ]
  },
  {
   "cell_type": "markdown",
   "metadata": {},
   "source": [
    "## Améliorez votre modèle\n",
    "\n",
    "Améliorez votre modèle afin de diminuer l'erreur sur le jeu de test. Essayez différentes architectures / hyperparamètres et à chaque fois reportez vos résultats.\n",
    "\n",
    "Objectif: passer sous les 1% d'erreur: http://yann.lecun.com/exdb/mnist/\n",
    "\n",
    "Pistes à essayer:\n",
    "- plus de couches cachées\n",
    "- convolutions + max pooling\n",
    "- dropout\n",
    "- couches résiduelles\n",
    "\n",
    "Astuces:\n",
    "- changer l'algorithme de descente de gradient (Adam)\n",
    "- implémentez une stratégie d'early stopping: $n$ epochs sans amélioration -> arret\n",
    "- implémentez une stratégie de diminution du learning rate: $n/2$ epochs sans amélioration -> $\\alpha = \\alpha / 2$ (torch.optim.lr_scheduler.ReduceLROnPlateau)"
   ]
  },
  {
   "cell_type": "code",
   "execution_count": 3,
   "metadata": {},
   "outputs": [],
   "source": [
    "# TODO :"
   ]
  },
  {
   "cell_type": "markdown",
   "metadata": {
    "collapsed": true
   },
   "source": [
    "## NLP: Modèlisation NGram\n",
    "\n",
    "Modèle NGram: sachant les mots $n$ précédents on veut prédire le prochain mot:\n",
    "\n",
    "\\begin{equation*}\n",
    "P(w_i | w_{i-1}, w_{i-2}, \\dots, w_{i-n+1})\n",
    "\\end{equation*}\n",
    "\n",
    "Où $w_i$ est le ième mot d'une phrase.\n",
    "\n",
    "Veuillez considérer de modèle de prédiction de trigram suivant :"
   ]
  },
  {
   "cell_type": "code",
   "execution_count": null,
   "metadata": {
    "collapsed": true
   },
   "outputs": [],
   "source": [
    "CONTEXT_SIZE = 2\n",
    "EMBEDDING_DIM = 10\n",
    "# We will use Shakespeare Sonnet 2\n",
    "test_sentence = \"\"\"When forty winters shall besiege thy brow,\n",
    "And dig deep trenches in thy beauty's field,\n",
    "Thy youth's proud livery so gazed on now,\n",
    "Will be a totter'd weed of small worth held:\n",
    "Then being asked, where all thy beauty lies,\n",
    "Where all the treasure of thy lusty days;\n",
    "To say, within thine own deep sunken eyes,\n",
    "Were an all-eating shame, and thriftless praise.\n",
    "How much more praise deserv'd thy beauty's use,\n",
    "If thou couldst answer 'This fair child of mine\n",
    "Shall sum my count, and make my old excuse,'\n",
    "Proving his beauty by succession thine!\n",
    "This were to be new made when thou art old,\n",
    "And see thy blood warm when thou feel'st it cold.\"\"\".split()\n",
    "# we should tokenize the input, but we will ignore that for now\n",
    "# build a list of tuples.  Each tuple is ([ word_i-2, word_i-1 ], target word)\n",
    "trigrams = [([test_sentence[i], test_sentence[i + 1]], test_sentence[i + 2])\n",
    "            for i in range(len(test_sentence) - 2)]\n",
    "# print the first 3, just so you can see what they look like\n",
    "print(trigrams[:3])\n",
    "\n",
    "vocab = set(test_sentence)\n",
    "word_to_ix = {word: i for i, word in enumerate(vocab)}\n",
    "\n",
    "\n",
    "class NGramLanguageModeler(nn.Module):\n",
    "\n",
    "    def __init__(self, vocab_size, embedding_dim, context_size):\n",
    "        super(NGramLanguageModeler, self).__init__()\n",
    "        self.embeddings = nn.Embedding(vocab_size, embedding_dim)\n",
    "        self.linear1 = nn.Linear(context_size * embedding_dim, 128)\n",
    "        self.linear2 = nn.Linear(128, vocab_size)\n",
    "\n",
    "    def forward(self, inputs):\n",
    "        embeds = self.embeddings(inputs).view((1, -1))\n",
    "        out = F.relu(self.linear1(embeds))\n",
    "        out = self.linear2(out)\n",
    "        log_probs = F.log_softmax(out)\n",
    "        return log_probs\n",
    "\n",
    "\n",
    "losses = []\n",
    "loss_function = nn.NLLLoss()\n",
    "model = NGramLanguageModeler(len(vocab), EMBEDDING_DIM, CONTEXT_SIZE)\n",
    "optimizer = optim.SGD(model.parameters(), lr=0.01)\n",
    "\n",
    "for epoch in range(1000):\n",
    "    total_loss = torch.Tensor([0])\n",
    "    for context, target in trigrams:\n",
    "\n",
    "        # Step 1. Prepare the inputs to be passed to the model (i.e, turn the words\n",
    "        # into integer indices and wrap them in variables)\n",
    "        context_idxs = [word_to_ix[w] for w in context]\n",
    "        context_var = Variable(torch.LongTensor(context_idxs))\n",
    "\n",
    "        # Step 2. Recall that torch *accumulates* gradients. Before passing in a\n",
    "        # new instance, you need to zero out the gradients from the old\n",
    "        # instance\n",
    "        model.zero_grad()\n",
    "\n",
    "        # Step 3. Run the forward pass, getting log probabilities over next\n",
    "        # words\n",
    "        log_probs = model(context_var)\n",
    "\n",
    "        # Step 4. Compute your loss function. (Again, Torch wants the target\n",
    "        # word wrapped in a variable)\n",
    "        loss = loss_function(log_probs, Variable(\n",
    "            torch.LongTensor([word_to_ix[target]])))\n",
    "\n",
    "        # Step 5. Do the backward pass and update the gradient\n",
    "        loss.backward()\n",
    "        optimizer.step()\n",
    "\n",
    "        total_loss += loss.data\n",
    "    losses.append(total_loss)\n",
    "print(losses)  # The loss decreased every iteration over the training data!"
   ]
  },
  {
   "cell_type": "markdown",
   "metadata": {},
   "source": [
    "### Utilisez vos propres valeurs pour context"
   ]
  },
  {
   "cell_type": "code",
   "execution_count": 78,
   "metadata": {},
   "outputs": [
    {
     "name": "stdout",
     "output_type": "stream",
     "text": [
      "['own', 'deep'] sunken\n"
     ]
    }
   ],
   "source": [
    "# context = # TODO\n",
    "context = ['own', 'deep']\n",
    "context_idxs = [word_to_ix[w] for w in context]\n",
    "context_var = Variable(torch.LongTensor(context_idxs))\n",
    "log_probs = model(context_var)\n",
    "print(context, list(vocab)[torch.max(log_probs, 1)[1].data[0]])"
   ]
  },
  {
   "cell_type": "markdown",
   "metadata": {},
   "source": [
    "## CBOW: Continuous Bag-of-Words\n",
    "CBOW = Prédire un mot sachant les mots d'avant et les mots d'après.\n",
    "\n",
    "Exercice : en utilisant l'exemple précédent, codez un modèle CBOW."
   ]
  },
  {
   "cell_type": "code",
   "execution_count": 110,
   "metadata": {
    "collapsed": true
   },
   "outputs": [],
   "source": [
    "def make_context_vector(context, word_to_ix):\n",
    "    idxs = [word_to_ix[w] for w in context]\n",
    "    tensor = torch.LongTensor(idxs)\n",
    "    return Variable(tensor)\n",
    "\n",
    "CONTEXT_SIZE = 2  # 2 words to the left, 2 to the right\n",
    "EMBEDDING_DIM = 10\n",
    "raw_text = \"\"\"We are about to study the idea of a computational process.\n",
    "Computational processes are abstract beings that inhabit computers.\n",
    "As they evolve, processes manipulate other abstract things called data.\n",
    "The evolution of a process is directed by a pattern of rules\n",
    "called a program. People create programs to direct processes. In effect,\n",
    "we conjure the spirits of the computer with our spells.\"\"\".split()\n",
    "\n",
    "# By deriving a set from `raw_text`, we deduplicate the array\n",
    "vocab = set(raw_text)\n",
    "vocab_size = len(vocab)\n",
    "\n",
    "word_to_ix = {word: i for i, word in enumerate(vocab)}\n",
    "data = []\n",
    "for i in range(2, len(raw_text) - 2):\n",
    "    context = [raw_text[i - 2], raw_text[i - 1],\n",
    "               raw_text[i + 1], raw_text[i + 2]]\n",
    "    target = raw_text[i]\n",
    "    data.append((context, target))\n",
    "print(data[:5])\n",
    "\n",
    "class CBOW(nn.Module):\n",
    "\n",
    "    def __init__(self):\n",
    "        pass\n",
    "\n",
    "    def forward(self, inputs):\n",
    "        pass"
   ]
  },
  {
   "cell_type": "code",
   "execution_count": null,
   "metadata": {
    "collapsed": true
   },
   "outputs": [],
   "source": []
  }
 ],
 "metadata": {
  "kernelspec": {
   "display_name": "Python 3",
   "language": "python",
   "name": "python3"
  },
  "language_info": {
   "codemirror_mode": {
    "name": "ipython",
    "version": 3
   },
   "file_extension": ".py",
   "mimetype": "text/x-python",
   "name": "python",
   "nbconvert_exporter": "python",
   "pygments_lexer": "ipython3",
   "version": "3.6.3"
  }
 },
 "nbformat": 4,
 "nbformat_minor": 2
}
